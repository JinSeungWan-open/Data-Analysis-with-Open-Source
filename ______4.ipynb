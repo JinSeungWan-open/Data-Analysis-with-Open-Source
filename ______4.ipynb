{
  "nbformat": 4,
  "nbformat_minor": 0,
  "metadata": {
    "colab": {
      "provenance": [],
      "include_colab_link": true
    },
    "kernelspec": {
      "name": "python3",
      "display_name": "Python 3"
    },
    "language_info": {
      "name": "python"
    }
  },
  "cells": [
    {
      "cell_type": "markdown",
      "metadata": {
        "id": "view-in-github",
        "colab_type": "text"
      },
      "source": [
        "<a href=\"https://colab.research.google.com/github/JinSeungWan-open/Data-Analysis-with-Open-Source/blob/main/______4.ipynb\" target=\"_parent\"><img src=\"https://colab.research.google.com/assets/colab-badge.svg\" alt=\"Open In Colab\"/></a>"
      ]
    },
    {
      "cell_type": "markdown",
      "source": [],
      "metadata": {
        "id": "ZVk5z8wkaoik"
      }
    },
    {
      "cell_type": "markdown",
      "source": [
        "\n",
        "\n",
        "# 오픈소스 기반 데이터 분석 4강 - 데이터 수집\n"
      ],
      "metadata": {
        "id": "DkPKaAsoRq5Q"
      }
    },
    {
      "cell_type": "markdown",
      "source": [
        "## 4-1 CSV 파일 읽기"
      ],
      "metadata": {
        "id": "-I7BVVlnRrB0"
      }
    },
    {
      "cell_type": "code",
      "source": [
        "import pandas as pd\n",
        "\n",
        "## data.csv 파일 읽기\n",
        "df = pd.read_csv('data.csv', encoding='UTF-8', sep=',', header=0, index_col=None, skiprows=None, nrows=None)\n",
        "\n",
        "print(df)"
      ],
      "metadata": {
        "id": "2Y2HEiaiRwAI",
        "colab": {
          "base_uri": "https://localhost:8080/"
        },
        "outputId": "e59f2370-f2f7-48c6-897a-0b2e8f298573"
      },
      "execution_count": null,
      "outputs": [
        {
          "output_type": "stream",
          "name": "stdout",
          "text": [
            "           날짜    체중  골격근량  체지방량\n",
            "0  2025.02.06  64.7  30.0  11.1\n",
            "1  2025.02.04  64.0  29.3  11.6\n"
          ]
        }
      ]
    },
    {
      "cell_type": "markdown",
      "source": [
        "## 4-2 JSON 파일 읽기\n",
        "\n"
      ],
      "metadata": {
        "id": "9kHCFaGlRrE0"
      }
    },
    {
      "cell_type": "code",
      "source": [
        "import json\n",
        "import pandas as pd\n",
        "\n",
        "## data.json 파일 출력\n",
        "with open('data.json', mode='r', encoding='UTF-8') as f:\n",
        "    data = json.load(f)\n",
        "print(data)\n",
        "## data.json 파일 DataFrame 읽기\n",
        "df = pd.read_json('data.json', orient='records', encoding='utf-8')\n",
        "print(df)"
      ],
      "metadata": {
        "id": "IO8bsKekR0W_",
        "colab": {
          "base_uri": "https://localhost:8080/"
        },
        "outputId": "6490e5e2-06a4-43ed-901e-0b03d273d5bb"
      },
      "execution_count": null,
      "outputs": [
        {
          "output_type": "stream",
          "name": "stdout",
          "text": [
            "{'매출데이터': [{'월': '2025-01', '매출액': 1000000, '비용': 700000, '이익': 300000}, {'월': '2025-02', '매출액': 1200000, '비용': 800000, '이익': 400000}, {'월': '2025-03', '매출액': 1500000, '비용': 900000, '이익': 600000}]}\n",
            "                                               매출데이터\n",
            "0  {'월': '2025-01', '매출액': 1000000, '비용': 700000,...\n",
            "1  {'월': '2025-02', '매출액': 1200000, '비용': 800000,...\n",
            "2  {'월': '2025-03', '매출액': 1500000, '비용': 900000,...\n"
          ]
        }
      ]
    },
    {
      "cell_type": "markdown",
      "source": [
        "## 4-3 텍스트 파일 읽기 및 데이터 추출"
      ],
      "metadata": {
        "id": "uLd_3A_IRrHG"
      }
    },
    {
      "cell_type": "code",
      "source": [
        "import re\n",
        "\n",
        "## 파일(callcenter20250301.log) 오픈 및 읽기\n",
        "with open('callcenter20250301.log', 'r', encoding='utf-8') as f:\n",
        "    content = f.read()\n",
        "## 주민등록번호 패턴 생성\n",
        "pattern = re.compile(r'(\\d{6})-(\\d{7})')\n",
        "## 주민등록번호 마스킹\n",
        "masked_content = pattern.sub(r'\\1-*******',content)\n",
        "\n",
        "## 마스킹된 파일(callcenter20250301_masked.log) 오픈 및 쓰기\n",
        "with open('callcenter20250301_masked.log', mode='w') as f:\n",
        "    f.write(masked_content)\n",
        "\n",
        "print(\"주민등록번호 마스킹 완료. 'callcenter20250301_masked.log.txt' 파일로 저장되었습니다.\")"
      ],
      "metadata": {
        "id": "60qOf7uxVdAg",
        "colab": {
          "base_uri": "https://localhost:8080/"
        },
        "outputId": "99c435dd-3e46-4ce3-8dd4-b32e8599c150"
      },
      "execution_count": null,
      "outputs": [
        {
          "output_type": "stream",
          "name": "stdout",
          "text": [
            "주민등록번호 마스킹 완료. 'callcenter20250301_masked.log.txt' 파일로 저장되었습니다.\n"
          ]
        }
      ]
    },
    {
      "cell_type": "markdown",
      "source": [
        "## 4-4 Open-Meteo의 무료 날씨 API를 통한 특정 지역 온도 조회"
      ],
      "metadata": {
        "id": "eOMufu5SXiAU"
      }
    },
    {
      "cell_type": "code",
      "source": [
        "import requests\n",
        "import json\n",
        "\n",
        "url = \"https://api.open-meteo.com/v1/forecast?=&=&current=temperature_2m\"\n",
        "params = {\n",
        "    \"latitude\": \"37.58638333\",\n",
        "    \"longitude\": \"127.0203333\",\n",
        "    \"current\": \"temperature_2m\"\n",
        "}\n",
        "\n",
        "try:\n",
        "    ## URL 및 파라미터 전송\n",
        "    response = requests.get(url, params=params)\n",
        "    response.raise_for_status()\n",
        "    ## JSON 데이터 읽기\n",
        "    data = response.json()\n",
        "    print(\"API 응답:\", data)\n",
        "    print(\"서울시 종로구의 현재 온도는 : {0}{1} 입니다.\".format(data['current']['temperature_2m'], data['current_units']['temperature_2m']))\n",
        "\n",
        "except requests.exceptions.RequestException as e:\n",
        "    print(f\"API 호출 실패: {e}\")\n",
        "except json.JSONDecodeError as e:\n",
        "    print(f\"JSON 파싱 실패: {e}\")"
      ],
      "metadata": {
        "id": "JpmgdsW9V0CY",
        "colab": {
          "base_uri": "https://localhost:8080/"
        },
        "outputId": "458fb086-19de-4fc2-c9ae-070e761a2ba1"
      },
      "execution_count": null,
      "outputs": [
        {
          "output_type": "stream",
          "name": "stdout",
          "text": [
            "API 응답: {'latitude': 37.6, 'longitude': 127.0, 'generationtime_ms': 0.026941299438476562, 'utc_offset_seconds': 0, 'timezone': 'GMT', 'timezone_abbreviation': 'GMT', 'elevation': 29.0, 'current_units': {'time': 'iso8601', 'interval': 'seconds', 'temperature_2m': '°C'}, 'current': {'time': '2025-10-17T09:15', 'interval': 900, 'temperature_2m': 19.6}}\n",
            "서울시 종로구의 현재 온도는 : 19.6°C 입니다.\n"
          ]
        }
      ]
    },
    {
      "cell_type": "markdown",
      "source": [
        "## 4-5 Selenium과 lxml을 이용한 웹 스크래핑"
      ],
      "metadata": {
        "id": "RLfPaa1ZiqIC"
      }
    },
    {
      "cell_type": "code",
      "source": [
        "!curl -o google-chrome-stable_current_amd64.deb https://dl.google.com/linux/direct/google-chrome-stable_current_amd64.deb\n",
        "!apt install ./google-chrome-stable_current_amd64.deb -y\n",
        "!pip install selenium webdriver_manager"
      ],
      "metadata": {
        "id": "79dmM7MNk8pB"
      },
      "execution_count": null,
      "outputs": []
    },
    {
      "cell_type": "code",
      "source": [
        "from selenium import webdriver\n",
        "from selenium.webdriver.chrome.service import Service as ChromeService\n",
        "from webdriver_manager.chrome import ChromeDriverManager\n",
        "from selenium.webdriver.common.by import By\n",
        "from lxml import html\n",
        "import time\n",
        "\n",
        "chrome_options = webdriver.ChromeOptions()\n",
        "chrome_options.add_argument('--headless')               # 브라우저 창 없이 실행\n",
        "chrome_options.add_argument('--no-sandbox')             # 보안모드 비활성화 (Colab 필수)\n",
        "chrome_options.add_argument('--disable-dev-shm-usage')  # 메모리 부족 방지 (Colab 필수)\n",
        "chrome_options.add_argument('--window-size=1920x1080')  # 창 크기 설정(가상)\n",
        "chrome_options.add_argument('--disable-gpu')            # GPU 가속 비활성화 (일부 환경 안정성)\n",
        "chrome_options.binary_location = \"/usr/bin/google-chrome-stable\"  # Colab용 크롬 경로 지정\n",
        "\n",
        "## 드라이버 실행\n",
        "driver = webdriver.Chrome(options=chrome_options)\n",
        "\n",
        "## 사이트 접속\n",
        "url = 'http://professor.knou.ac.kr/jaehwachung/index.do'\n",
        "driver.ger(url)\n",
        "\n",
        "## 사이트 접속 대기\n",
        "time.sleep(2)\n",
        "\n",
        "## 페이지 제목 출력\n",
        "page_source = driver.page_source\n",
        "tree = html.fromstring(page_source)\n",
        "\n",
        "title_text = tree.xpath('//title/text()')\n",
        "print(title_text)\n",
        "\n",
        "## 드라이버 종료\n",
        "driver.quit()"
      ],
      "metadata": {
        "id": "cRC8x3_iW0im",
        "colab": {
          "base_uri": "https://localhost:8080/",
          "height": 411
        },
        "outputId": "aa8b8d83-64c9-4ad7-b6c2-03a48e1e4b87"
      },
      "execution_count": null,
      "outputs": [
        {
          "output_type": "error",
          "ename": "ModuleNotFoundError",
          "evalue": "No module named 'selenium'",
          "traceback": [
            "\u001b[0;31m---------------------------------------------------------------------------\u001b[0m",
            "\u001b[0;31mModuleNotFoundError\u001b[0m                       Traceback (most recent call last)",
            "\u001b[0;32m/tmp/ipython-input-3620013874.py\u001b[0m in \u001b[0;36m<cell line: 0>\u001b[0;34m()\u001b[0m\n\u001b[0;32m----> 1\u001b[0;31m \u001b[0;32mfrom\u001b[0m \u001b[0mselenium\u001b[0m \u001b[0;32mimport\u001b[0m \u001b[0mwebdriver\u001b[0m\u001b[0;34m\u001b[0m\u001b[0;34m\u001b[0m\u001b[0m\n\u001b[0m\u001b[1;32m      2\u001b[0m \u001b[0;32mfrom\u001b[0m \u001b[0mselenium\u001b[0m\u001b[0;34m.\u001b[0m\u001b[0mwebdriver\u001b[0m\u001b[0;34m.\u001b[0m\u001b[0mchrome\u001b[0m\u001b[0;34m.\u001b[0m\u001b[0mservice\u001b[0m \u001b[0;32mimport\u001b[0m \u001b[0mService\u001b[0m \u001b[0;32mas\u001b[0m \u001b[0mChromeService\u001b[0m\u001b[0;34m\u001b[0m\u001b[0;34m\u001b[0m\u001b[0m\n\u001b[1;32m      3\u001b[0m \u001b[0;32mfrom\u001b[0m \u001b[0mwebdriver_manager\u001b[0m\u001b[0;34m.\u001b[0m\u001b[0mchrome\u001b[0m \u001b[0;32mimport\u001b[0m \u001b[0mChromeDriverManager\u001b[0m\u001b[0;34m\u001b[0m\u001b[0;34m\u001b[0m\u001b[0m\n\u001b[1;32m      4\u001b[0m \u001b[0;32mfrom\u001b[0m \u001b[0mselenium\u001b[0m\u001b[0;34m.\u001b[0m\u001b[0mwebdriver\u001b[0m\u001b[0;34m.\u001b[0m\u001b[0mcommon\u001b[0m\u001b[0;34m.\u001b[0m\u001b[0mby\u001b[0m \u001b[0;32mimport\u001b[0m \u001b[0mBy\u001b[0m\u001b[0;34m\u001b[0m\u001b[0;34m\u001b[0m\u001b[0m\n\u001b[1;32m      5\u001b[0m \u001b[0;32mfrom\u001b[0m \u001b[0mlxml\u001b[0m \u001b[0;32mimport\u001b[0m \u001b[0mhtml\u001b[0m\u001b[0;34m\u001b[0m\u001b[0;34m\u001b[0m\u001b[0m\n",
            "\u001b[0;31mModuleNotFoundError\u001b[0m: No module named 'selenium'",
            "",
            "\u001b[0;31m---------------------------------------------------------------------------\u001b[0;32m\nNOTE: If your import is failing due to a missing package, you can\nmanually install dependencies using either !pip or !apt.\n\nTo view examples of installing some common dependencies, click the\n\"Open Examples\" button below.\n\u001b[0;31m---------------------------------------------------------------------------\u001b[0m\n"
          ],
          "errorDetails": {
            "actions": [
              {
                "action": "open_url",
                "actionText": "Open Examples",
                "url": "/notebooks/snippets/importing_libraries.ipynb"
              }
            ]
          }
        }
      ]
    },
    {
      "cell_type": "markdown",
      "source": [
        "\n",
        "# 실습 시나리오"
      ],
      "metadata": {
        "id": "Bu6OMZyGirOq"
      }
    },
    {
      "cell_type": "markdown",
      "source": [],
      "metadata": {
        "id": "SH3HfPRFfZXs"
      }
    },
    {
      "cell_type": "markdown",
      "source": [
        "## 공공데이터 포털 가입 및 데이터 신청\n",
        "\n",
        "- [https://www.data.go.kr](https://www.data.go.kr)\n",
        "- 한국환경공단 에어코리아 대기오염정보 데이터 신청"
      ],
      "metadata": {
        "id": "nsuqRN9RkZlW"
      }
    },
    {
      "cell_type": "code",
      "source": [
        "import requests\n",
        "import json\n",
        "\n",
        "API_KEY = \"42436d41486a696e3837517354586e\"\n",
        "base_url = \"http://openapi.seoul.go.kr:8088\"\n",
        "results = []\n",
        "\n",
        "for year in range(2015, 2025):\n",
        "    for month in range(1, 13):\n",
        "        url = f\"{base_url}/{API_KEY}/json/energyUseDataSummaryInfo/1/1000/{year}/{month:02d}\"\n",
        "        try:\n",
        "            response = requests.get(url)\n",
        "            if response.status_code == 200 and response.text.strip():\n",
        "                data = response.json()\n",
        "                if (\"energyUseDataSummaryInfo\" in data and \"row\" in data[\"energyUseDataSummaryInfo\"]):\n",
        "                    rows = data[\"energyUseDataSummaryInfo\"][\"row\"]\n",
        "                    for item in rows:\n",
        "                        if item.get(\"MM_TYPE\") == \"개인\":\n",
        "                            results.append({\n",
        "                                \"연도\": item.get(\"YEAR\"),\n",
        "                                \"월\": item.get(\"MON\"),\n",
        "                                \"전기 사용량\": item.get(\"EUS\"),\n",
        "                                \"가스 사용량\": item.get(\"GUS\"),\n",
        "                                \"수도 사용량\": item.get(\"WUS\"),\n",
        "                                \"지역난방 사용량\": item.get(\"HUS\")\n",
        "                            })\n",
        "                    print(f\"{year}-{month:02d} 호출 성공\")\n",
        "        except ValueError:\n",
        "            pass\n",
        "\n",
        "with open(\"seoul_energy_use_2015_2024.json\", \"w\", encoding=\"utf-8\") as f:\n",
        "        json.dump(results, f, ensure_ascii=False, indent=4)\n",
        "\n",
        "print(\"데이터 수집 완료\")"
      ],
      "metadata": {
        "colab": {
          "base_uri": "https://localhost:8080/"
        },
        "id": "K1SVH1VEE0V7",
        "outputId": "df6434f1-3ac9-46a8-f641-9eb8111c26e0"
      },
      "execution_count": 1,
      "outputs": [
        {
          "output_type": "stream",
          "name": "stdout",
          "text": [
            "2015-01 호출 성공\n",
            "2015-02 호출 성공\n",
            "2015-03 호출 성공\n",
            "2015-04 호출 성공\n",
            "2015-05 호출 성공\n",
            "2015-06 호출 성공\n",
            "2015-07 호출 성공\n",
            "2015-08 호출 성공\n",
            "2015-09 호출 성공\n",
            "2015-10 호출 성공\n",
            "2015-11 호출 성공\n",
            "2015-12 호출 성공\n",
            "2016-01 호출 성공\n",
            "2016-02 호출 성공\n",
            "2016-03 호출 성공\n",
            "2016-04 호출 성공\n",
            "2016-05 호출 성공\n",
            "2016-06 호출 성공\n",
            "2016-07 호출 성공\n",
            "2016-08 호출 성공\n",
            "2016-09 호출 성공\n",
            "2016-10 호출 성공\n",
            "2016-11 호출 성공\n",
            "2016-12 호출 성공\n",
            "2017-01 호출 성공\n",
            "2017-02 호출 성공\n",
            "2017-03 호출 성공\n",
            "2017-04 호출 성공\n",
            "2017-05 호출 성공\n",
            "2017-06 호출 성공\n",
            "2017-07 호출 성공\n",
            "2017-08 호출 성공\n",
            "2017-09 호출 성공\n",
            "2017-10 호출 성공\n",
            "2017-11 호출 성공\n",
            "2017-12 호출 성공\n",
            "2018-01 호출 성공\n",
            "2018-02 호출 성공\n",
            "2018-03 호출 성공\n",
            "2018-04 호출 성공\n",
            "2018-05 호출 성공\n",
            "2018-06 호출 성공\n",
            "2018-07 호출 성공\n",
            "2018-08 호출 성공\n",
            "2018-09 호출 성공\n",
            "2018-10 호출 성공\n",
            "2018-11 호출 성공\n",
            "2018-12 호출 성공\n",
            "2019-01 호출 성공\n",
            "2019-02 호출 성공\n",
            "2019-03 호출 성공\n",
            "2019-04 호출 성공\n",
            "2019-05 호출 성공\n",
            "2019-06 호출 성공\n",
            "2019-07 호출 성공\n",
            "2019-08 호출 성공\n",
            "2019-09 호출 성공\n",
            "2019-10 호출 성공\n",
            "2019-11 호출 성공\n",
            "2019-12 호출 성공\n",
            "2020-01 호출 성공\n",
            "2020-02 호출 성공\n",
            "2020-03 호출 성공\n",
            "2020-04 호출 성공\n",
            "2020-05 호출 성공\n",
            "2020-06 호출 성공\n",
            "2020-07 호출 성공\n",
            "2020-08 호출 성공\n",
            "2020-09 호출 성공\n",
            "2020-10 호출 성공\n",
            "2020-11 호출 성공\n",
            "2020-12 호출 성공\n",
            "2021-01 호출 성공\n",
            "2021-02 호출 성공\n",
            "2021-03 호출 성공\n",
            "2021-04 호출 성공\n",
            "2021-05 호출 성공\n",
            "2021-06 호출 성공\n",
            "2021-07 호출 성공\n",
            "2021-08 호출 성공\n",
            "2021-09 호출 성공\n",
            "2021-10 호출 성공\n",
            "2021-11 호출 성공\n",
            "2021-12 호출 성공\n",
            "2022-01 호출 성공\n",
            "2022-02 호출 성공\n",
            "2022-03 호출 성공\n",
            "2022-04 호출 성공\n",
            "2022-05 호출 성공\n",
            "2022-06 호출 성공\n",
            "2022-07 호출 성공\n",
            "2022-08 호출 성공\n",
            "2022-09 호출 성공\n",
            "2022-10 호출 성공\n",
            "2022-11 호출 성공\n",
            "2022-12 호출 성공\n",
            "2023-01 호출 성공\n",
            "2023-02 호출 성공\n",
            "2023-03 호출 성공\n",
            "2023-04 호출 성공\n",
            "2023-05 호출 성공\n",
            "2023-06 호출 성공\n",
            "2023-07 호출 성공\n",
            "2023-08 호출 성공\n",
            "2023-09 호출 성공\n",
            "2023-10 호출 성공\n",
            "2023-11 호출 성공\n",
            "2023-12 호출 성공\n",
            "2024-01 호출 성공\n",
            "2024-02 호출 성공\n",
            "2024-03 호출 성공\n",
            "2024-04 호출 성공\n",
            "2024-05 호출 성공\n",
            "2024-06 호출 성공\n",
            "2024-07 호출 성공\n",
            "2024-08 호출 성공\n",
            "2024-09 호출 성공\n",
            "2024-10 호출 성공\n",
            "2024-11 호출 성공\n",
            "2024-12 호출 성공\n",
            "데이터 수집 완료\n"
          ]
        }
      ]
    },
    {
      "cell_type": "code",
      "source": [
        "import pandas as pd\n",
        "import json\n",
        "\n",
        "with open('seoul_energy_use_2015_2024.json', encoding='utf-8') as f:\n",
        "    data = json.load(f)\n",
        "\n",
        "df = pd.DataFrame(data)\n",
        "\n",
        "print(df.head())\n",
        "print(df.info())\n",
        "print(df.describe())"
      ],
      "metadata": {
        "colab": {
          "base_uri": "https://localhost:8080/",
          "height": 224
        },
        "id": "j5eB0L74nG0R",
        "outputId": "b547aabd-b717-4884-eedf-65f13d9a8061"
      },
      "execution_count": 1,
      "outputs": [
        {
          "output_type": "error",
          "ename": "FileNotFoundError",
          "evalue": "[Errno 2] No such file or directory: 'seoul_energy_use_2015_2024.json'",
          "traceback": [
            "\u001b[0;31m---------------------------------------------------------------------------\u001b[0m",
            "\u001b[0;31mFileNotFoundError\u001b[0m                         Traceback (most recent call last)",
            "\u001b[0;32m/tmp/ipython-input-1981585360.py\u001b[0m in \u001b[0;36m<cell line: 0>\u001b[0;34m()\u001b[0m\n\u001b[1;32m      2\u001b[0m \u001b[0;32mimport\u001b[0m \u001b[0mjson\u001b[0m\u001b[0;34m\u001b[0m\u001b[0;34m\u001b[0m\u001b[0m\n\u001b[1;32m      3\u001b[0m \u001b[0;34m\u001b[0m\u001b[0m\n\u001b[0;32m----> 4\u001b[0;31m \u001b[0;32mwith\u001b[0m \u001b[0mopen\u001b[0m\u001b[0;34m(\u001b[0m\u001b[0;34m'seoul_energy_use_2015_2024.json'\u001b[0m\u001b[0;34m,\u001b[0m \u001b[0mencoding\u001b[0m\u001b[0;34m=\u001b[0m\u001b[0;34m'utf-8'\u001b[0m\u001b[0;34m)\u001b[0m \u001b[0;32mas\u001b[0m \u001b[0mf\u001b[0m\u001b[0;34m:\u001b[0m\u001b[0;34m\u001b[0m\u001b[0;34m\u001b[0m\u001b[0m\n\u001b[0m\u001b[1;32m      5\u001b[0m     \u001b[0mdata\u001b[0m \u001b[0;34m=\u001b[0m \u001b[0mjson\u001b[0m\u001b[0;34m.\u001b[0m\u001b[0mload\u001b[0m\u001b[0;34m(\u001b[0m\u001b[0mf\u001b[0m\u001b[0;34m)\u001b[0m\u001b[0;34m\u001b[0m\u001b[0;34m\u001b[0m\u001b[0m\n\u001b[1;32m      6\u001b[0m \u001b[0;34m\u001b[0m\u001b[0m\n",
            "\u001b[0;31mFileNotFoundError\u001b[0m: [Errno 2] No such file or directory: 'seoul_energy_use_2015_2024.json'"
          ]
        }
      ]
    },
    {
      "cell_type": "code",
      "source": [
        "import pandas as pd\n",
        "import json\n",
        "\n",
        "with open('seoul_energy_use_2015_2024.json', encoding='utf-8') as f:\n",
        "    data = json.load(f)\n",
        "\n",
        "df = pd.DataFrame(data)\n",
        "\n",
        "df['date'] = pd.to_datetime(df['연도'] + '-' + df['월'] + '-01')\n",
        "df['year'] = df['date'].dt.year\n",
        "\n",
        "def get_season(month) :\n",
        "    if month in [3, 4, 5]:\n",
        "        return '봄'\n",
        "    elif month in [6, 7, 8]:\n",
        "        return '여름'\n",
        "    elif month in [9, 10, 11]:\n",
        "        return '가을'\n",
        "    else:\n",
        "        return '겨울'\n",
        "\n",
        "df['month'] = df['date'].dt.month\n",
        "df['season'] = df['month'].apply(get_season)\n",
        "\n",
        "print(df.head(12))\n"
      ],
      "metadata": {
        "colab": {
          "base_uri": "https://localhost:8080/"
        },
        "id": "rEAq_ynOR5d6",
        "outputId": "05ea72fd-bbb7-473b-9b09-ec4c95fac844"
      },
      "execution_count": 19,
      "outputs": [
        {
          "output_type": "stream",
          "name": "stdout",
          "text": [
            "      연도   월     전기 사용량    가스 사용량        수도 사용량      지역난방 사용량       date  \\\n",
            "0   2015  01  193784708  59133720  12819757.886  22740838.937 2015-01-01   \n",
            "1   2015  02  189974230  56487358  12656888.218  18793320.213 2015-02-01   \n",
            "2   2015  03  175215719  49984873  12655474.249  13826348.508 2015-03-01   \n",
            "3   2015  04  183891769  37306841  12954773.246   5836002.885 2015-04-01   \n",
            "4   2015  05  177289769  22060892  13086734.214   1320895.801 2015-05-01   \n",
            "5   2015  06  186073153  12677645  14241651.402    294312.634 2015-06-01   \n",
            "6   2015  07  165114568   8893640  12083879.038    702863.645 2015-07-01   \n",
            "7   2015  08  242000479   7619018  15164553.742    460288.965 2015-08-01   \n",
            "8   2015  09  207540868   6518422  14419078.727    305710.728 2015-09-01   \n",
            "9   2015  10  186473958   8924018  14711828.766   3167520.127 2015-10-01   \n",
            "10  2015  11  196892030  20322557  13692668.676   11210982.51 2015-11-01   \n",
            "11  2015  12  203388142  40095231  13904162.958  21102616.717 2015-12-01   \n",
            "\n",
            "    year  month season  \n",
            "0   2015      1     겨울  \n",
            "1   2015      2     겨울  \n",
            "2   2015      3      봄  \n",
            "3   2015      4      봄  \n",
            "4   2015      5      봄  \n",
            "5   2015      6     여름  \n",
            "6   2015      7     여름  \n",
            "7   2015      8     여름  \n",
            "8   2015      9     가을  \n",
            "9   2015     10     가을  \n",
            "10  2015     11     가을  \n",
            "11  2015     12     겨울  \n"
          ]
        }
      ]
    },
    {
      "cell_type": "code",
      "source": [
        "import requests\n",
        "import pandas as pd\n",
        "import json\n",
        "import time\n",
        "\n",
        "base_url = \"http://openapi.seoul.go.kr:8088\"\n",
        "API_KEY = \"42436d41486a696e3837517354586e\"\n",
        "results = []\n",
        "\n",
        "for year in range(2015, 2025):\n",
        "    for month in range(1, 13):\n",
        "        url = f\"{base_url}/{API_KEY}/json/energyUseDataSummaryInfo/1/100/{year}/{month:02d}\"\n",
        "        try:\n",
        "            response = requests.get(url)\n",
        "            if response.status_code == 200:\n",
        "                if response.text.strip():\n",
        "                    try:\n",
        "                        data = response.json()\n",
        "                        if (\"energyUseDataSummaryInfo\" in data and\n",
        "                            \"row\" in data[\"energyUseDataSummaryInfo\"]):\n",
        "                            rows = data[\"energyUseDataSummaryInfo\"][\"row\"]\n",
        "                            # 조건에 맞는 데이터 존재 여부 확인용 변수\n",
        "                            has_data = False\n",
        "                            for item in rows:\n",
        "                                if (item.get(\"CL_CODE_NM\") == \"개인\" and\n",
        "                                    item.get(\"ENERGY_TYPE_NM\") in [\"전기\", \"가스\", \"수도\", \"지역난방\"]):\n",
        "                                    results.append({\n",
        "                                        \"연도\": year,\n",
        "                                        \"월\": month,\n",
        "                                        \"에너지종류\": item.get(\"ENERGY_TYPE_NM\"),\n",
        "                                        \"사용량\": item.get(\"USE_AMT\")\n",
        "                                    })\n",
        "                            print(f\"{year}-{month:02d} 호출 성공\")\n",
        "                        else:\n",
        "                            print(f\"{year}-{month:02d} 데이터 없음\")\n",
        "            except json.JSONDecodeError:\n",
        "                    print(f\"{year}-{month:02d} JSON 파싱 오류\")\n",
        "            else:\n",
        "                print(f\"{year}-{month:02d} 응답 본문 비어있음\")\n",
        "        else:\n",
        "             print(f\"{year}-{month:02d} 호출 실패 (상태코드: {response.status_code})\")\n",
        "    except requests.RequestException as e:\n",
        "        print(f\"{year}-{month:02d} 요청 중 예외 발생: {e}\")\n",
        "\n",
        "with open(\"energy_use_2015_2024.json\", \"w\", encoding=\"UTF-8\") as f:\n",
        "    json.dump(results, f, ensure_ascii=False, indent=4)\n",
        "\n",
        "print(\"데이터 수집 완료\")"
      ],
      "metadata": {
        "colab": {
          "base_uri": "https://localhost:8080/",
          "height": 112
        },
        "id": "k7k877VsCq4D",
        "outputId": "53b66035-4fc9-448e-97df-4c92072d057c"
      },
      "execution_count": null,
      "outputs": [
        {
          "output_type": "error",
          "ename": "SyntaxError",
          "evalue": "expected 'except' or 'finally' block (ipython-input-1654592806.py, line 36)",
          "traceback": [
            "\u001b[0;36m  File \u001b[0;32m\"/tmp/ipython-input-1654592806.py\"\u001b[0;36m, line \u001b[0;32m36\u001b[0m\n\u001b[0;31m    except json.JSONDecodeError:\u001b[0m\n\u001b[0m    ^\u001b[0m\n\u001b[0;31mSyntaxError\u001b[0m\u001b[0;31m:\u001b[0m expected 'except' or 'finally' block\n"
          ]
        }
      ]
    },
    {
      "cell_type": "code",
      "source": [],
      "metadata": {
        "id": "TwRr-IpjP8E5"
      },
      "execution_count": null,
      "outputs": []
    },
    {
      "cell_type": "code",
      "source": [
        "import requests\n",
        "import pandas as pd\n",
        "import json\n",
        "import time\n",
        "# 데이터 수집 url 및 API KEY\n",
        "url = \"http://openapi.seoul.go.kr:8088\"\n",
        "API_KEY = \"42436d41486a696e3837517354586e\"\n",
        "results = []\n",
        "# 데이터 결과 저장\n",
        "data_list = []\n",
        "\n",
        "# 기간 내 API 호출\n",
        "for year in range(2015, 2025):\n",
        "    for month in range(1, 13):\n",
        "        url = f\"{url}/{API_KEY}/json/energyUseDataSummaryInfo/1/100/{year}/{month:02d}\"\n",
        "        response = requests.get(url)\n",
        "        if response.status_code==200:\n",
        "            response.text.strip():\n",
        "                try:\n",
        "                    data = response.json()\n",
        "                    if \"energyUseDataSummaryInfo\" in data and \"row\" in data[\"energyUseDataSummaryInfo\"][\"row\"]:\n",
        "                        for item in data[\"energyUseDataSummaryInfo\"][\"row\"]:\n",
        "                            if item.get(\"CL_CODE_NM\") == \"개인\" and item.get(\"ENERGY_TYPE_NM\") in [\"전기\", \"가스\", \"수도\", \"지역난방\"]:\n",
        "                                results.append({\n",
        "                                    \"연도\" : year, \"월\" : month, \"에너지종류\": item.get(\"ENERGY_TYPE_NM\"), \"사용량\" : item.get(\"USE_AMT\")\n",
        "                                })\n",
        "                            print(f\"{year}-{month:02d} 호출 성공\")\n",
        "                        else:\n",
        "                            print(f\"{year}-{month:02d} 데이터 없음\")\n",
        "                    else:\n",
        "                        print(f\"{year}-{month:02d} 호출 실패\")\n",
        "                    time.sleep(0.2)\n",
        "with open(\"energy_use_2015_2024.json\", \"w\", encoding=\"UTF-8\") as f:\n",
        "    json.dump(results, f, ensure_ascii=False, indent=4)\n",
        "\n",
        "print(\"데이터 수집 완료\")"
      ],
      "metadata": {
        "colab": {
          "base_uri": "https://localhost:8080/",
          "height": 112
        },
        "id": "XrWx_b1ogXNq",
        "outputId": "2da1041b-427a-449a-aa92-6d86409db4aa"
      },
      "execution_count": null,
      "outputs": [
        {
          "output_type": "error",
          "ename": "SyntaxError",
          "evalue": "invalid syntax (ipython-input-3146587827.py, line 18)",
          "traceback": [
            "\u001b[0;36m  File \u001b[0;32m\"/tmp/ipython-input-3146587827.py\"\u001b[0;36m, line \u001b[0;32m18\u001b[0m\n\u001b[0;31m    response.text.strip():\u001b[0m\n\u001b[0m                         ^\u001b[0m\n\u001b[0;31mSyntaxError\u001b[0m\u001b[0;31m:\u001b[0m invalid syntax\n"
          ]
        }
      ]
    },
    {
      "cell_type": "code",
      "source": [
        "import requests\n",
        "\n",
        "## 데이터 수집 url 및 api key 설정\n",
        "\n",
        "\n",
        "params = {\n",
        "    'serviceKey': api_key,\n",
        "    'returnType': 'json',\n",
        "    'numOfRows': '100',\n",
        "    'pageNo': '1',\n",
        "    'sidoName': '서울',\n",
        "    'ver': '1.0'\n",
        "}\n",
        "\n",
        "## 데이터 수집\n",
        "\n",
        "## 호출 성공/실패 출력\n",
        "\n"
      ],
      "metadata": {
        "id": "0APjEzkWfPcV"
      },
      "execution_count": null,
      "outputs": []
    },
    {
      "cell_type": "code",
      "source": [
        "import requests\n",
        "\n",
        "## 데이터 수집 url 및 api key 설정\n",
        "\n",
        "\n",
        "params = {\n",
        "    'serviceKey': api_key,\n",
        "    'returnType': 'json',\n",
        "    'numOfRows': '100',\n",
        "    'pageNo': '1',\n",
        "    'sidoName': '서울',\n",
        "    'ver': '1.0'\n",
        "}\n",
        "\n",
        "## 데이터 수집\n",
        "\n",
        "## 호출 성공/실패 출력\n",
        "\n"
      ],
      "metadata": {
        "id": "7yCozmQeXJcO"
      },
      "execution_count": null,
      "outputs": []
    }
  ]
}